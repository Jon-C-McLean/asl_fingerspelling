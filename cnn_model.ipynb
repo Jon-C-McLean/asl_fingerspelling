{
 "cells": [
  {
   "cell_type": "code",
   "execution_count": 1,
   "metadata": {},
   "outputs": [],
   "source": [
    "import tensorflow as tf\n",
    "import numpy as np\n",
    "import pandas as pd\n",
    "import os\n",
    "\n",
    "%load_ext autoreload\n",
    "%autoreload 2"
   ]
  },
  {
   "cell_type": "code",
   "execution_count": 9,
   "metadata": {},
   "outputs": [
    {
     "name": "stdout",
     "output_type": "stream",
     "text": [
      "['train_0094_77929d66-e96c-4cef-b73e-3782fe89b20c.tfrecord', 'train_0112_77ffd52e-32ad-4f3b-93f1-09bd17e92adf.tfrecord', 'train_0055_bed8c139-d368-4dbc-9180-fe52137a79cc.tfrecord', 'train_0091_198d2951-3a68-4708-83e6-015ee2499945.tfrecord', 'train_0046_7e94f8e6-7979-4540-99ed-369dd035fd5d.tfrecord', 'train_0054_769e1320-8841-492a-966f-7a13df1a8df6.tfrecord', 'train_0097_e02cb7ca-355f-4e32-97ea-91490b2f5b6d.tfrecord', 'train_0127_2f760cd9-bc40-4575-89a2-6b76affd9e6e.tfrecord', 'train_0095_1f0e08ac-a935-40c7-8f8e-1ebb6a7ad1e1.tfrecord', 'train_0035_40bc0440-7d10-4d79-8f62-9cacecec308e.tfrecord', 'train_0051_9b6e2c2c-88e4-4f62-ad96-98da6b963c5e.tfrecord', 'train_0047_9d0e6ec3-70df-49fa-9e3a-072bf8c9ba18.tfrecord', 'train_0096_ef512acd-f89a-46ec-9da2-45d9e5cb896c.tfrecord', 'train_0018_b99300a5-bc59-43df-8ae9-b57f23829951.tfrecord', 'train_0040_a824a306-7fc0-491b-9a6c-fc880e9718f4.tfrecord', 'train_0058_36b61851-e3a9-4331-840d-45856cb5dfc7.tfrecord', 'train_0108_c04d49b8-9157-4eae-94b2-c61088a0b2e4.tfrecord', 'train_0083_176be87c-2c35-4974-ae8a-9e952b39fd57.tfrecord', 'train_0021_57ecd0e0-7c2f-4b76-b91f-b58c8c6f8004.tfrecord', 'train_0086_1437faa5-b90b-4b55-960b-9f62b6ac50b3.tfrecord', 'train_0120_12cfa67e-53ef-409d-a76b-4a2d82195f55.tfrecord', 'train_0119_e9b07d25-21d0-4ff3-8c0b-d5db21c67749.tfrecord', 'train_0099_8935ee02-48f9-48f5-9f67-be29118d8aa4.tfrecord', 'train_0075_12ddb4e8-5868-4869-8ffc-0100f08194cf.tfrecord', 'train_0042_5ca780c4-55e9-495b-82f0-3e334f986cb1.tfrecord', 'train_0068_ffa244d8-26ae-4357-b54e-64ff90c84518.tfrecord', 'train_0115_2cf65049-d2a5-4908-b928-5f78da872217.tfrecord', 'train_0030_01c3ec92-762f-47ae-81d0-b18c79bf8e1e.tfrecord', 'train_0071_9d1aab99-747a-4398-a39d-720a9e2cb271.tfrecord', 'train_0074_a34bb749-2848-489f-94fc-2df97182d1d3.tfrecord', 'train_0073_76627ceb-491b-4885-9ffc-510f694657f5.tfrecord', 'train_0004_c653d1ec-cb8b-46c7-998e-50b3fdb3d71b.tfrecord', 'train_0063_0dfecef2-04df-48e5-9769-fbaf5d850d3f.tfrecord', 'train_0062_bd120f28-ad9e-49ab-83aa-db58c1115b85.tfrecord', 'train_0001_b19269f4-0d8c-4433-967a-c99e4d34990e.tfrecord', 'train_0076_95ac6404-f40d-4465-a1fc-4ca0559b6a03.tfrecord', 'train_0045_880ce1cc-b376-4a26-9f20-ce04594a08b1.tfrecord', 'train_0123_218adbda-ef66-4eaa-a97d-ce91e6109a83.tfrecord', 'train_0014_a11fffe3-6db2-43ad-b53e-8ca3d81b28ca.tfrecord', 'train_0017_a25cb1cb-66ea-46ec-b417-ade6fe6341c5.tfrecord', 'train_0065_9af743dc-d613-427d-9bf1-fc8c9411fa7d.tfrecord', 'train_0072_5e54235c-dfb8-4181-b680-c627bf99fd63.tfrecord', 'train_0039_2b64a2c4-1ec1-4cae-917e-9442a90797a9.tfrecord', 'train_0011_810ef859-922e-48b6-8fe6-5b877ce17c8f.tfrecord', 'train_0025_7336e927-99db-4491-ab62-5bef7110ad67.tfrecord', 'train_0077_c0f2b88a-e85d-4ab4-8b9b-fb34e4924fc3.tfrecord', 'train_0117_513964f5-2eb9-4b3e-8cc7-c9de0c875f05.tfrecord', 'train_0106_a418d6ca-26d1-4193-b498-f019a3b64fdc.tfrecord', 'train_0012_469f9443-beea-4220-9936-db6c37acc1fd.tfrecord', 'train_0100_3a060201-ecfc-4c20-bd66-756b68111c12.tfrecord', 'train_0005_ea259d23-0586-4e5a-9dd8-26609e60d97b.tfrecord', 'train_0009_b8d4c998-fe2f-4a88-99aa-1fb89a2a3a3b.tfrecord', 'train_0103_2c6c178e-d780-43cf-a790-e9e1449ff30f.tfrecord', 'train_0085_17ff43e3-050f-407c-bc28-ad408b0fd93a.tfrecord', 'train_0041_3ed5f3c0-0695-47bc-b5c6-36c14b7e8793.tfrecord', 'train_0113_d7786587-c257-4c42-b54b-7f3d3c97f50f.tfrecord', 'train_0056_193a3eb4-e5f9-4fb0-9678-b2e79c3998be.tfrecord', 'train_0019_e3685beb-1099-49a2-b401-5fb07b93e065.tfrecord', 'train_0026_af8b1008-1754-45a1-a4d3-fb0bb34abc8a.tfrecord', 'train_0121_80fd42f5-193b-470e-9589-338c4aae1797.tfrecord', 'train_0031_9f0a304f-a476-4ee1-aaba-d0b7f49e6052.tfrecord', 'train_0053_5dd6fa24-3439-4b9c-a560-392e76c9468b.tfrecord', 'train_0069_0117d0d6-b6e8-405d-a655-3c99126052de.tfrecord', 'train_0087_502708eb-cca6-4ebf-8f6d-f93bebc21c1c.tfrecord', 'train_0101_1bceda33-00b6-491e-b9f7-a033577ce9f0.tfrecord', 'train_0016_e5d3323a-cee5-477d-b6d3-29f8025b0923.tfrecord', 'train_0081_d38e3b82-b2dc-4f9b-87f7-0a527a4299d4.tfrecord', 'train_0023_daab710d-ef67-4134-8fa7-b518101c97e2.tfrecord', 'train_0084_d2ad0cd1-6f96-4b1a-b9a9-8c16bda35009.tfrecord', 'train_0052_e3cea969-712c-4d4d-a4b8-286ecac361f9.tfrecord', 'train_0022_d972b2c2-fa08-4afb-9042-e74b19896d45.tfrecord', 'train_0015_52ca512d-06f2-4728-9ab6-9f215bb806d8.tfrecord', 'train_0006_fbe2bd6a-60a3-4b99-9eb8-aca027e4d9c4.tfrecord', 'train_0109_5079dc43-c860-4ef0-ae51-8227b70c7c83.tfrecord', 'train_0102_0b2f895f-988a-4aa9-b9e6-1d701ee66382.tfrecord', 'train_0003_5fce302a-4067-4eb7-b1c7-2dafdf281c91.tfrecord', 'train_0043_02ada55f-192b-4f0e-b628-b2ac1215916a.tfrecord', 'train_0038_9be26ee2-5ff9-4c5e-985e-116b5905710e.tfrecord', 'train_0010_9e6feb2e-c6ee-4503-b66c-c84242027682.tfrecord', 'train_0090_ef7ca5cf-4bfc-4b74-8024-23bc1162764a.tfrecord', 'train_0105_fe1c2bd5-7d3d-4135-912f-8498a6cd6963.tfrecord', 'train_0037_9e5a2c12-1b6c-4565-bd4e-e5707ea2dd53.tfrecord', 'train_0104_cd80b5fd-eecc-4b9b-887f-8835a9fc51f7.tfrecord', 'train_0059_5ff309f7-08cf-4225-b4ec-fa879f353710.tfrecord', 'train_0070_28eb0bbf-4ca8-4b46-bf8c-881ced96175f.tfrecord', 'train_0114_ca5cb25b-bb67-476a-9277-99aa7c94035d.tfrecord', 'train_0057_9883b870-d45e-4c50-b9af-4510b23068a6.tfrecord', 'train_0118_deb4cb29-cec9-4885-a675-60fcbd5c3f86.tfrecord', 'train_0126_4ad6cee9-00b9-42a2-86e4-c92faf6b8feb.tfrecord', 'train_0024_1e376b77-92ce-4c58-9aa1-2db23fe2a1e5.tfrecord', 'train_0048_c7f3a89e-cf0b-4a4a-839a-08c37aa58060.tfrecord', 'train_0122_6321bf56-16e9-4239-ac07-a9c72c6851e0.tfrecord', 'train_0032_ded489dd-e70e-4724-a492-425842618fc8.tfrecord', 'train_0034_63e33a79-e30c-431d-bdd7-5263654a2a03.tfrecord', 'train_0111_444e7f04-7503-40a6-8367-8449bb4fcd15.tfrecord', 'train_0061_53255d15-a64c-416b-9d20-3549bf840636.tfrecord', 'train_0036_c235fad3-414c-47ba-9e84-22572a9b3d24.tfrecord', 'train_0116_ace99a4b-7e3c-4540-aee6-41db83e73635.tfrecord', 'train_0092_f31560b8-1ad0-4946-bb70-a77152966b91.tfrecord', 'train_0027_7d4bdd12-f489-48de-a0ac-cf3bf560d12f.tfrecord', 'train_0060_7309614a-665b-4732-a76e-db2e232f6d37.tfrecord', 'train_0029_74f8a9b2-4c52-47d7-b23f-7a5a7e45b608.tfrecord', 'train_0082_ca4c192f-e77c-493e-8dc1-bc18ea5278cb.tfrecord', 'train_0002_5ecf9c77-135a-4ffb-a5e4-c0b726a611d0.tfrecord', 'train_0107_bb0ec3c5-61ae-465f-a042-cb05bb3de696.tfrecord', 'train_0008_5b68928b-0bb8-4a73-b818-5d164fbdcaf2.tfrecord', 'train_0124_99fd8edf-4771-4862-8759-5bf0a72de669.tfrecord', 'train_0049_a9b9f95d-b5f8-4e31-9277-f45f229156e4.tfrecord', 'train_0050_eb3388c7-c799-4127-b3da-af3f6865777c.tfrecord', 'train_0089_27daafb8-9c85-4191-afc6-e050d41b565d.tfrecord', 'train_0066_5f346dab-60f6-4715-8466-48592b14850f.tfrecord', 'train_0013_88947202-2cea-42fc-8589-2bb3b25ba853.tfrecord', 'train_0078_fe7c9b05-f4c1-4558-aff4-4103490c25d2.tfrecord', 'train_0079_444787b4-f0dc-4666-af3d-0ed6f24e96a5.tfrecord', 'train_0098_b523092e-caa1-489f-bd35-8142a317c928.tfrecord', 'train_0110_6b82d813-9828-459a-aed7-269bbdf29695.tfrecord', 'train_0044_c0f7082f-d2db-4d51-836d-98eb131ac098.tfrecord', 'train_0007_7c42bbd3-d567-47d6-9bf7-19b914d6c6f1.tfrecord', 'train_0125_ed0aca63-31e3-49ea-8e5e-883a1ff4622a.tfrecord', 'train_0033_9858856e-1396-45a3-9b0c-8c0244c9b72f.tfrecord', 'train_0064_2633d4de-c6d4-4264-a8c2-92d1ee60635a.tfrecord', 'train_0067_4d01e605-57e5-4460-8e8a-ca8c4080f86a.tfrecord', 'train_0080_cfebdbad-9a09-49d6-aa2e-e4a27e8ac42b.tfrecord', 'train_0088_3bfe8d5e-0d6c-47c7-b4e5-75aa2c83e05e.tfrecord', 'train_0028_4115f277-f09c-4ee0-9efc-11363998674d.tfrecord', 'train_0093_b1507ba1-809f-485f-b193-31e4f4498537.tfrecord', 'train_0020_74b8bda8-2ca0-4673-89c5-5ec6e4d882bf.tfrecord']\n",
      "<TFRecordDatasetV2 element_spec=TensorSpec(shape=(), dtype=tf.string, name=None)>\n",
      "{0: 1454, 1: 1581, 2: 1678, 3: 1706, 4: 1574, 5: 1654, 6: 1571, 7: 2005, 8: 1833, 10: 1720, 11: 1620, 12: 1461, 13: 1928, 14: 1752, 15: 2197, 16: 2112, 17: 2094, 18: 1868, 20: 1959, 22: 2103, 24: 2032}\n"
     ]
    }
   ],
   "source": [
    "# Load Data\n",
    "dataset_path = \"/Users/jon/development/university/sis/datasets/tfrecs\"\n",
    "\n",
    "tfrecs_paths = [each for each in os.listdir(dataset_path) if each.endswith(\".tfrecord\")]\n",
    "\n",
    "print(tfrecs_paths)\n",
    "\n",
    "NUM_CLASSES = 26\n",
    "\n",
    "x_dataset = []\n",
    "y_dataset = []\n",
    "\n",
    "raw_dataset = tf.data.TFRecordDataset([os.path.join(dataset_path, each) for each in tfrecs_paths])\n",
    "print(raw_dataset)\n",
    "\n",
    "feature_description = {\n",
    "    'target_label': tf.io.FixedLenSequenceFeature([], tf.int64, allow_missing=True),\n",
    "    'landmarks': tf.io.FixedLenSequenceFeature([], tf.float32, allow_missing=True),\n",
    "}\n",
    "\n",
    "def parse_record_fn(example):\n",
    "    return tf.io.parse_single_example(example, feature_description)\n",
    "\n",
    "parsed_dataset = raw_dataset.map(parse_record_fn)\n",
    "# print(parsed_dataset)\n",
    "\n",
    "for parsed_record in parsed_dataset:\n",
    "    x_dataset.append(parsed_record['landmarks'].numpy())\n",
    "    y_dataset.append(parsed_record['target_label'].numpy())\n",
    "\n",
    "from collections import Counter\n",
    "unique, counts = np.unique(y_dataset, return_counts=True)\n",
    "print(dict(zip(unique, counts)))"
   ]
  },
  {
   "cell_type": "code",
   "execution_count": 11,
   "metadata": {},
   "outputs": [
    {
     "name": "stdout",
     "output_type": "stream",
     "text": [
      "(30321, 63, 1)\n",
      "(30321, 26)\n",
      "[0. 0. 0. 0. 0. 0. 0. 0. 0. 0. 0. 0. 0. 0. 0. 0. 0. 0. 0. 0. 0. 0. 1. 0.\n",
      " 0. 0.]\n"
     ]
    }
   ],
   "source": [
    "from sklearn.model_selection import train_test_split\n",
    "\n",
    "x_train, x_test, y_train, y_test = train_test_split(x_dataset, y_dataset, test_size=0.2, shuffle=True, random_state=42)\n",
    "\n",
    "x_train = np.array(x_train)\n",
    "y_train = np.array(y_train)\n",
    "x_test = np.array(x_test)\n",
    "y_test = np.array(y_test)\n",
    "\n",
    "x_train = np.reshape(x_train, (x_train.shape[0], x_train.shape[1], 1))\n",
    "x_test = np.reshape(x_test, (x_test.shape[0], x_test.shape[1], 1))\n",
    "\n",
    "y_train = tf.keras.utils.to_categorical(y_train, NUM_CLASSES)\n",
    "y_test = tf.keras.utils.to_categorical(y_test, NUM_CLASSES)\n",
    "\n",
    "print(x_train.shape)\n",
    "print(y_train.shape)\n",
    "\n",
    "print(y_train[0])"
   ]
  },
  {
   "cell_type": "code",
   "execution_count": 12,
   "metadata": {},
   "outputs": [
    {
     "name": "stdout",
     "output_type": "stream",
     "text": [
      "Model: \"sequential_1\"\n",
      "_________________________________________________________________\n",
      " Layer (type)                Output Shape              Param #   \n",
      "=================================================================\n",
      " conv1d_8 (Conv1D)           (None, 63, 32)            192       \n",
      "                                                                 \n",
      " conv1d_9 (Conv1D)           (None, 63, 32)            5152      \n",
      "                                                                 \n",
      " max_pooling1d_4 (MaxPooling  (None, 31, 32)           0         \n",
      " 1D)                                                             \n",
      "                                                                 \n",
      " conv1d_10 (Conv1D)          (None, 31, 64)            10304     \n",
      "                                                                 \n",
      " conv1d_11 (Conv1D)          (None, 31, 64)            20544     \n",
      "                                                                 \n",
      " max_pooling1d_5 (MaxPooling  (None, 15, 64)           0         \n",
      " 1D)                                                             \n",
      "                                                                 \n",
      " conv1d_12 (Conv1D)          (None, 15, 128)           41088     \n",
      "                                                                 \n",
      " conv1d_13 (Conv1D)          (None, 15, 128)           82048     \n",
      "                                                                 \n",
      " max_pooling1d_6 (MaxPooling  (None, 7, 128)           0         \n",
      " 1D)                                                             \n",
      "                                                                 \n",
      " conv1d_14 (Conv1D)          (None, 7, 256)            164096    \n",
      "                                                                 \n",
      " conv1d_15 (Conv1D)          (None, 7, 256)            327936    \n",
      "                                                                 \n",
      " max_pooling1d_7 (MaxPooling  (None, 3, 256)           0         \n",
      " 1D)                                                             \n",
      "                                                                 \n",
      " dropout_1 (Dropout)         (None, 3, 256)            0         \n",
      "                                                                 \n",
      " flatten_1 (Flatten)         (None, 768)               0         \n",
      "                                                                 \n",
      " dense_2 (Dense)             (None, 512)               393728    \n",
      "                                                                 \n",
      " dense_3 (Dense)             (None, 26)                13338     \n",
      "                                                                 \n",
      "=================================================================\n",
      "Total params: 1,058,426\n",
      "Trainable params: 1,058,426\n",
      "Non-trainable params: 0\n",
      "_________________________________________________________________\n"
     ]
    }
   ],
   "source": [
    "model = tf.keras.models.Sequential([\n",
    "    tf.keras.layers.Conv1D(filters=32, kernel_size=5, strides=1, padding=\"causal\", activation=\"relu\", input_shape=x_train.shape[1:]),\n",
    "    tf.keras.layers.Conv1D(filters=32, kernel_size=5, strides=1, padding=\"causal\", activation=\"relu\"),\n",
    "    tf.keras.layers.MaxPooling1D(pool_size=2),\n",
    "    tf.keras.layers.Conv1D(filters=64, kernel_size=5, strides=1, padding=\"causal\", activation=\"relu\"),\n",
    "    tf.keras.layers.Conv1D(filters=64, kernel_size=5, strides=1, padding=\"causal\", activation=\"relu\"),\n",
    "    tf.keras.layers.MaxPooling1D(pool_size=2),\n",
    "    tf.keras.layers.Conv1D(filters=128, kernel_size=5, strides=1, padding=\"causal\", activation=\"relu\"),\n",
    "    tf.keras.layers.Conv1D(filters=128, kernel_size=5, strides=1, padding=\"causal\", activation=\"relu\"),\n",
    "    tf.keras.layers.MaxPooling1D(pool_size=2),\n",
    "    tf.keras.layers.Conv1D(filters=256, kernel_size=5, strides=1, padding=\"causal\", activation=\"relu\"),\n",
    "    tf.keras.layers.Conv1D(filters=256, kernel_size=5, strides=1, padding=\"causal\", activation=\"relu\"),\n",
    "    tf.keras.layers.MaxPooling1D(pool_size=2),\n",
    "    tf.keras.layers.Dropout(rate=0.2),\n",
    "    tf.keras.layers.Flatten(),\n",
    "    tf.keras.layers.Dense(512, activation=\"relu\"),\n",
    "    tf.keras.layers.Dense(NUM_CLASSES, activation=\"softmax\")\n",
    "])\n",
    "\n",
    "model.compile(loss = 'categorical_crossentropy', optimizer = 'adam', metrics = ['accuracy', 'categorical_accuracy'])\n",
    "model.summary()"
   ]
  },
  {
   "cell_type": "code",
   "execution_count": 13,
   "metadata": {},
   "outputs": [
    {
     "name": "stdout",
     "output_type": "stream",
     "text": [
      "Epoch 1/25\n",
      "948/948 [==============================] - 20s 20ms/step - loss: 1.6666 - accuracy: 0.4675 - categorical_accuracy: 0.4675 - val_loss: 0.2260 - val_accuracy: 0.9153 - val_categorical_accuracy: 0.9153\n",
      "Epoch 2/25\n",
      "948/948 [==============================] - 18s 19ms/step - loss: 0.1519 - accuracy: 0.9497 - categorical_accuracy: 0.9497 - val_loss: 0.1358 - val_accuracy: 0.9538 - val_categorical_accuracy: 0.9538\n",
      "Epoch 3/25\n",
      "948/948 [==============================] - 20s 21ms/step - loss: 0.0857 - accuracy: 0.9725 - categorical_accuracy: 0.9725 - val_loss: 0.0409 - val_accuracy: 0.9852 - val_categorical_accuracy: 0.9852\n",
      "Epoch 4/25\n",
      "948/948 [==============================] - 18s 19ms/step - loss: 0.0693 - accuracy: 0.9777 - categorical_accuracy: 0.9777 - val_loss: 0.0154 - val_accuracy: 0.9950 - val_categorical_accuracy: 0.9950\n",
      "Epoch 5/25\n",
      "948/948 [==============================] - 17s 18ms/step - loss: 0.0585 - accuracy: 0.9811 - categorical_accuracy: 0.9811 - val_loss: 0.3048 - val_accuracy: 0.9073 - val_categorical_accuracy: 0.9073\n",
      "Epoch 6/25\n",
      "948/948 [==============================] - 18s 19ms/step - loss: 0.0489 - accuracy: 0.9845 - categorical_accuracy: 0.9845 - val_loss: 0.0250 - val_accuracy: 0.9923 - val_categorical_accuracy: 0.9923\n",
      "Epoch 7/25\n",
      "948/948 [==============================] - 18s 19ms/step - loss: 0.0467 - accuracy: 0.9851 - categorical_accuracy: 0.9851 - val_loss: 0.2341 - val_accuracy: 0.9296 - val_categorical_accuracy: 0.9296\n",
      "Epoch 8/25\n",
      "948/948 [==============================] - 17s 18ms/step - loss: 0.0362 - accuracy: 0.9887 - categorical_accuracy: 0.9887 - val_loss: 0.0364 - val_accuracy: 0.9917 - val_categorical_accuracy: 0.9917\n",
      "Epoch 9/25\n",
      "948/948 [==============================] - 17s 18ms/step - loss: 0.0445 - accuracy: 0.9864 - categorical_accuracy: 0.9864 - val_loss: 0.0114 - val_accuracy: 0.9967 - val_categorical_accuracy: 0.9967\n",
      "Epoch 10/25\n",
      "948/948 [==============================] - 17s 18ms/step - loss: 0.0339 - accuracy: 0.9896 - categorical_accuracy: 0.9896 - val_loss: 0.0243 - val_accuracy: 0.9935 - val_categorical_accuracy: 0.9935\n",
      "Epoch 11/25\n",
      "948/948 [==============================] - 17s 18ms/step - loss: 0.0299 - accuracy: 0.9904 - categorical_accuracy: 0.9904 - val_loss: 0.0124 - val_accuracy: 0.9966 - val_categorical_accuracy: 0.9966\n",
      "Epoch 12/25\n",
      "948/948 [==============================] - 17s 18ms/step - loss: 0.0300 - accuracy: 0.9907 - categorical_accuracy: 0.9907 - val_loss: 0.0111 - val_accuracy: 0.9975 - val_categorical_accuracy: 0.9975\n",
      "Epoch 13/25\n",
      "948/948 [==============================] - 18s 19ms/step - loss: 0.0280 - accuracy: 0.9911 - categorical_accuracy: 0.9911 - val_loss: 0.0074 - val_accuracy: 0.9970 - val_categorical_accuracy: 0.9970\n",
      "Epoch 14/25\n",
      "948/948 [==============================] - 17s 18ms/step - loss: 0.0296 - accuracy: 0.9907 - categorical_accuracy: 0.9907 - val_loss: 0.0278 - val_accuracy: 0.9933 - val_categorical_accuracy: 0.9933\n",
      "Epoch 15/25\n",
      "948/948 [==============================] - 17s 18ms/step - loss: 0.0234 - accuracy: 0.9929 - categorical_accuracy: 0.9929 - val_loss: 0.0199 - val_accuracy: 0.9937 - val_categorical_accuracy: 0.9937\n",
      "Epoch 16/25\n",
      "948/948 [==============================] - 18s 19ms/step - loss: 0.0178 - accuracy: 0.9946 - categorical_accuracy: 0.9946 - val_loss: 0.0085 - val_accuracy: 0.9975 - val_categorical_accuracy: 0.9975\n",
      "Epoch 17/25\n",
      "948/948 [==============================] - 18s 18ms/step - loss: 0.0225 - accuracy: 0.9933 - categorical_accuracy: 0.9933 - val_loss: 0.0194 - val_accuracy: 0.9945 - val_categorical_accuracy: 0.9945\n",
      "Epoch 18/25\n",
      "948/948 [==============================] - 17s 18ms/step - loss: 0.0212 - accuracy: 0.9937 - categorical_accuracy: 0.9937 - val_loss: 0.0108 - val_accuracy: 0.9970 - val_categorical_accuracy: 0.9970\n",
      "Epoch 19/25\n",
      "948/948 [==============================] - 18s 19ms/step - loss: 0.0132 - accuracy: 0.9960 - categorical_accuracy: 0.9960 - val_loss: 0.0069 - val_accuracy: 0.9984 - val_categorical_accuracy: 0.9984\n",
      "Epoch 20/25\n",
      "948/948 [==============================] - 17s 18ms/step - loss: 0.0349 - accuracy: 0.9904 - categorical_accuracy: 0.9904 - val_loss: 0.0133 - val_accuracy: 0.9970 - val_categorical_accuracy: 0.9970\n",
      "Epoch 21/25\n",
      "948/948 [==============================] - 17s 18ms/step - loss: 0.0183 - accuracy: 0.9942 - categorical_accuracy: 0.9942 - val_loss: 0.0106 - val_accuracy: 0.9978 - val_categorical_accuracy: 0.9978\n",
      "Epoch 22/25\n",
      "948/948 [==============================] - 17s 18ms/step - loss: 0.0123 - accuracy: 0.9967 - categorical_accuracy: 0.9967 - val_loss: 0.0099 - val_accuracy: 0.9987 - val_categorical_accuracy: 0.9987\n",
      "Epoch 23/25\n",
      "948/948 [==============================] - 20s 21ms/step - loss: 0.0214 - accuracy: 0.9944 - categorical_accuracy: 0.9944 - val_loss: 0.0116 - val_accuracy: 0.9967 - val_categorical_accuracy: 0.9967\n",
      "Epoch 24/25\n",
      "948/948 [==============================] - 18s 19ms/step - loss: 0.0147 - accuracy: 0.9955 - categorical_accuracy: 0.9955 - val_loss: 0.0107 - val_accuracy: 0.9967 - val_categorical_accuracy: 0.9967\n",
      "Epoch 25/25\n",
      "948/948 [==============================] - 17s 18ms/step - loss: 0.0136 - accuracy: 0.9958 - categorical_accuracy: 0.9958 - val_loss: 0.0052 - val_accuracy: 0.9992 - val_categorical_accuracy: 0.9992\n"
     ]
    }
   ],
   "source": [
    "history = model.fit(x_train, y_train, epochs=25, batch_size = 32, validation_data=(x_test, y_test))\n",
    "model.save('model-weights.h5')"
   ]
  },
  {
   "cell_type": "code",
   "execution_count": 14,
   "metadata": {},
   "outputs": [
    {
     "data": {
      "image/png": "[encoded data removed]",
      "text/plain": [
       "<Figure size 640x480 with 1 Axes>"
      ]
     },
     "metadata": {},
     "output_type": "display_data"
    }
   ],
   "source": [
    "# Graph Metrics/History\n",
    "from matplotlib import pyplot as plt\n",
    "\n",
    "plt.plot(history.history['accuracy'])\n",
    "plt.plot(history.history['val_accuracy'])\n",
    "plt.title('Model Accuracy')\n",
    "plt.ylabel('Accuracy')\n",
    "plt.xlabel('Epoch')\n",
    "plt.show()"
   ]
  }
 ],
 "metadata": {
  "kernelspec": {
   "display_name": "sis_cv_api",
   "language": "python",
   "name": "python3"
  },
  "language_info": {
   "codemirror_mode": {
    "name": "ipython",
    "version": 3
   },
   "file_extension": ".py",
   "mimetype": "text/x-python",
   "name": "python",
   "nbconvert_exporter": "python",
   "pygments_lexer": "ipython3",
   "version": "3.11.5"
  }
 },
 "nbformat": 4,
 "nbformat_minor": 2
}
